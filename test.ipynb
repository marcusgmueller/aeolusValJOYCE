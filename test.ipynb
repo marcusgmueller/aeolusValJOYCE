{
 "cells": [
  {
   "cell_type": "code",
   "execution_count": 1,
   "source": [
    "imagePath = \"/work/marcus_mueller/aeolus/plots_neu2/\"\n",
    "from plot import *\n",
    "import os\n",
    "from multiprocessing import Process, Queue\n",
    "from sklearn.neighbors import NearestNeighbors\n",
    "import pandas as pd\n",
    "os.putenv('CODA_DEFINITION', '/home/mmueller/hiwi/aeolus/')\n",
    "\n",
    "import coda\n",
    "from numpy import vstack, zeros\n",
    "import numpy as np\n",
    "\n",
    "import matplotlib.pyplot as plt\n",
    "import matplotlib\n",
    "matplotlib.use(\"Agg\")\n",
    "import pyproj\n",
    "import geopandas as gpd\n",
    "from shapely.ops import nearest_points\n",
    "from shapely.geometry import LineString\n",
    "import sys, os\n",
    "import xarray as xr\n",
    "\n",
    "from radarlidar_analysis.RadarLidarWindSpeed import RadarLidarWindSpeed\n",
    "from datetime import datetime, timedelta\n",
    "import tarfile\n",
    "import math\n",
    "\n",
    "import seaborn as sns\n",
    "sns.set_theme()\n",
    "\n",
    "orbit = '3082'\n",
    "path = '/work/marcus_mueller/aeolus/'\n",
    "\n",
    "fileList =  os.listdir(path+orbit+\"/\")\n",
    "tasks = []\n",
    "tasks.append(fileList[::4])\n",
    "tasks.append(fileList[1::4])\n",
    "tasks.append(fileList[2::4])\n",
    "tasks.append(fileList[3::4])\n",
    "\n",
    "dt = getMeasurementTime(fileList[0])"
   ],
   "outputs": [],
   "metadata": {}
  },
  {
   "cell_type": "code",
   "execution_count": 15,
   "source": [
    "filename = \"meteogram.iglo.h.\"+dt.strftime(\"%Y%m%d\")+\"00.nc\"\n",
    "path = \"/data/mod/icon_op/iglo/site/\"+dt.strftime(\"%Y/%m/\")+filename\n",
    "ds = xr.open_dataset(path)\n",
    "nStation = ds.station_name.values.tolist().index(b'Juelich')\n",
    "nU = ds.var_name.values.tolist().index(b'U')\n",
    "nV = ds.var_name.values.tolist().index(b'V')\n",
    "height = ds.sel(nstations=nStation, nvars = [nU],nsfcvars=[],time=4)['heights'].values.flatten().tolist()\n",
    "u = ds.sel(nstations=nStation, nvars = [nU],nsfcvars=[],time=4)['values'].values.flatten().tolist()\n",
    "v = ds.sel(nstations=nStation, nvars = [nV],nsfcvars=[],time=4)['values'].values.flatten().tolist()\n"
   ],
   "outputs": [],
   "metadata": {}
  }
 ],
 "metadata": {
  "orig_nbformat": 4,
  "language_info": {
   "name": "python",
   "version": "3.8.2",
   "mimetype": "text/x-python",
   "codemirror_mode": {
    "name": "ipython",
    "version": 3
   },
   "pygments_lexer": "ipython3",
   "nbconvert_exporter": "python",
   "file_extension": ".py"
  },
  "kernelspec": {
   "name": "python3",
   "display_name": "Python 3.8.2 64-bit ('aeolus': conda)"
  },
  "interpreter": {
   "hash": "5438d1e892a1ad887d137b66b1de290c1af2f5286353ed53e9a33f53b07f68a5"
  }
 },
 "nbformat": 4,
 "nbformat_minor": 2
}