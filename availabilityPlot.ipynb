{
 "cells": [
  {
   "cell_type": "code",
   "execution_count": 2,
   "metadata": {},
   "outputs": [],
   "source": []
  },
  {
   "cell_type": "code",
   "execution_count": 5,
   "metadata": {},
   "outputs": [],
   "source": []
  },
  {
   "cell_type": "code",
   "execution_count": 6,
   "metadata": {},
   "outputs": [
    {
     "output_type": "stream",
     "name": "stdout",
     "text": [
      "36\n"
     ]
    }
   ],
   "source": []
  },
  {
   "cell_type": "code",
   "execution_count": 7,
   "metadata": {},
   "outputs": [
    {
     "output_type": "stream",
     "name": "stdout",
     "text": [
      "AE_OPER_ALD_U_N_2B_20200929T054247_20200929T071323_0001\n",
      "AE_OPER_ALD_U_N_2B_20200512T054347_20200512T071435_0002\n",
      "AE_OPER_ALD_U_N_2B_20200811T054323_20200811T071411_0001\n",
      "AE_OPER_ALD_U_N_2B_20201215T054247_20201215T071323_0001\n",
      "AE_OPER_ALD_U_N_2B_20200901T054323_20200901T071359_0001\n",
      "AE_OPER_ALD_U_N_2B_20200526T054359_20200526T071435_0002\n",
      "AE_OPER_ALD_U_N_2B_20201201T055135_20201201T071311_0001\n",
      "AE_OPER_ALD_U_N_2B_20200623T054335_20200623T071423_0002\n",
      "AE_OPER_ALD_U_N_2B_20201229T054259_20201229T071335_0001\n",
      "AE_OPER_ALD_U_N_2B_20201117T055211_20201117T071347_0001\n",
      "AE_OPER_ALD_U_N_2B_20200908T054335_20200908T071411_0001\n",
      "AE_OPER_ALD_U_N_2B_20201027T054311_20201027T071359_0001\n",
      "AE_OPER_ALD_U_N_2B_20200505T054335_20200505T071411_0002\n",
      "AE_OPER_ALD_U_N_2B_20200804T054335_20200804T071411_0001\n",
      "AE_OPER_ALD_U_N_2B_20200428T054359_20200428T071435_0002\n",
      "AE_OPER_ALD_U_N_2B_20200922T054335_20200922T071423_0001\n",
      "AE_OPER_ALD_U_N_2B_20201110T055223_20201110T071359_0001\n",
      "AE_OPER_ALD_U_N_2B_20200616T054311_20200616T071359_0002\n",
      "AE_OPER_ALD_U_N_2B_20201222T054311_20201222T071359_0001\n",
      "AE_OPER_ALD_U_N_2B_20200421T054347_20200421T071423_0002\n",
      "AE_OPER_ALD_U_N_2B_20201208T054223_20201208T071259_0001\n",
      "- error -\n",
      "AE_OPER_ALD_U_N_2B_20200609T054323_20200609T071411_0002\n",
      "AE_OPER_ALD_U_N_2B_20200602T054311_20200602T071359_0002\n",
      "AE_OPER_ALD_U_N_2B_20200915T054323_20200915T071359_0001\n",
      "AE_OPER_ALD_U_N_2B_20200728T054335_20200728T071359_0001\n",
      "AE_OPER_ALD_U_N_2B_20201124T054259_20201124T071335_0001\n",
      "AE_OPER_ALD_U_N_2B_20201013T054347_20201013T071435_0001\n",
      "AE_OPER_ALD_U_N_2B_20200707T054335_20200707T071411_0002\n",
      "AE_OPER_ALD_U_N_2B_20200721T054335_20200721T071411_0001\n",
      "AE_OPER_ALD_U_N_2B_20200714T054259_20200714T071347_0001\n",
      "AE_OPER_ALD_U_N_2B_20200818T054323_20200818T071411_0001\n",
      "AE_OPER_ALD_U_N_2B_20201103T054323_20201103T071359_0001\n",
      "AE_OPER_ALD_U_N_2B_20200825T054323_20200825T071359_0001\n",
      "AE_OPER_ALD_U_N_2B_20200519T054335_20200519T071423_0002\n",
      "AE_OPER_ALD_U_N_2B_20201020T054323_20201020T071359_0001\n",
      "AE_OPER_ALD_U_N_2B_20200630T054323_20200630T071411_0002\n"
     ]
    }
   ],
   "source": []
  },
  {
   "cell_type": "code",
   "execution_count": 8,
   "metadata": {
    "tags": []
   },
   "outputs": [
    {
     "output_type": "error",
     "ename": "SyntaxError",
     "evalue": "invalid syntax (<ipython-input-8-e4bdbe1ac7c2>, line 14)",
     "traceback": [
      "\u001b[0;36m  File \u001b[0;32m\"<ipython-input-8-e4bdbe1ac7c2>\"\u001b[0;36m, line \u001b[0;32m14\u001b[0m\n\u001b[0;31m    joyceAvailability.append(row[1].)\u001b[0m\n\u001b[0m                                    ^\u001b[0m\n\u001b[0;31mSyntaxError\u001b[0m\u001b[0;31m:\u001b[0m invalid syntax\n"
     ]
    }
   ],
   "source": [
    "joyceDates = []\n",
    "joyceHeights = []\n",
    "joyceAvailability = []\n",
    "\n",
    "for entry in rayleighGdf.T.iteritems():\n",
    "    end = entry[1].measurementDatetime.replace(hour=23, minute=59, second=0, microsecond=0)\n",
    "    begin = entry[1].measurementDatetime.replace(hour=0, minute=0, second=0, microsecond=0)\n",
    "\n",
    "    analysis = RadarLidarWindSpeed(begin, end)\n",
    "    analysis.calculateAvailability()\n",
    "    for row in analysis.dataframe.iteritems():\n",
    "        joyceDates.append(entry[1].measurementDatetime)\n",
    "        joyceHeights.append(row[1].height)\n",
    "        joyceAvailability.append(row[1].)"
   ]
  },
  {
   "cell_type": "code",
   "execution_count": null,
   "metadata": {},
   "outputs": [],
   "source": []
  },
  {
   "cell_type": "code",
   "execution_count": null,
   "metadata": {},
   "outputs": [],
   "source": []
  },
  {
   "cell_type": "code",
   "execution_count": null,
   "metadata": {},
   "outputs": [],
   "source": []
  },
  {
   "cell_type": "code",
   "execution_count": null,
   "metadata": {},
   "outputs": [],
   "source": []
  }
 ],
 "metadata": {
  "interpreter": {
   "hash": "5438d1e892a1ad887d137b66b1de290c1af2f5286353ed53e9a33f53b07f68a5"
  },
  "kernelspec": {
   "name": "python3",
   "display_name": "Python 3.8.2 64-bit ('aeolus': conda)"
  },
  "language_info": {
   "codemirror_mode": {
    "name": "ipython",
    "version": 3
   },
   "file_extension": ".py",
   "mimetype": "text/x-python",
   "name": "python",
   "nbconvert_exporter": "python",
   "pygments_lexer": "ipython3",
   "version": "3.8.2"
  },
  "orig_nbformat": 4
 },
 "nbformat": 4,
 "nbformat_minor": 2
}